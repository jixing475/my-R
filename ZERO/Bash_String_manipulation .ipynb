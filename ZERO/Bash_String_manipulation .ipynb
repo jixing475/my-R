{
 "cells": [
  {
   "cell_type": "markdown",
   "metadata": {},
   "source": [
    "String manipulation is very useful in bash scripts; especially when processing a lot of files (in a for loop or xargs) with different names, and you want to name your output of each file with part of the input file name.\n",
    "`command file part_file.result`  \n",
    "I am going to demonstrate string maniputlation below:  \n",
    "\n",
    "Let's creat a variable `file` and print it out:"
   ]
  },
  {
   "cell_type": "code",
   "execution_count": 1,
   "metadata": {
    "collapsed": false
   },
   "outputs": [
    {
     "name": "stdout",
     "output_type": "stream",
     "text": [
      "foo.txt\r\n"
     ]
    }
   ],
   "source": [
    "file=foo.txt\n",
    "echo \"$file\""
   ]
  },
  {
   "cell_type": "markdown",
   "metadata": {},
   "source": [
    "I want to change the suffix from `txt` to `pdf`. one of the commonly known ways is to use the `basename` built-in function:"
   ]
  },
  {
   "cell_type": "code",
   "execution_count": 2,
   "metadata": {
    "collapsed": false
   },
   "outputs": [
    {
     "name": "stdout",
     "output_type": "stream",
     "text": [
      "foo.pdf\r\n"
     ]
    }
   ],
   "source": [
    "echo \"$(basename $file .txt).pdf\""
   ]
  },
  {
   "cell_type": "markdown",
   "metadata": {},
   "source": [
    "However, there are other built-in ways to get the same task done  \n",
    "[references here](http://www.thegeekstuff.com/2010/07/bash-string-manipulation/)\n",
    "\n",
    "**find and replace**  \n",
    "Replace only first match:  \n",
    "`${string/pattern/replacement}`  \n",
    "Replace all the matches:    \n",
    "`${string//pattern/replacement}` \n",
    "\n",
    "Following syntax replaces with the replacement string, only when the pattern matches beginning of the $string.   \n",
    "`${string/#pattern/replacement}`\n",
    "\n",
    "Following syntax replaces with the replacement string, only when the pattern matches at the end of the given $string.  \n",
    "`${string/%pattern/replacement}`  \n",
    "\n",
    "For more complex replacement, use `sed`. see my previous blog post [here](http://crazyhottommy.blogspot.com/2014/08/rename-bunch-of-files-with-bash-by.html)"
   ]
  },
  {
   "cell_type": "code",
   "execution_count": 3,
   "metadata": {
    "collapsed": false
   },
   "outputs": [
    {
     "name": "stdout",
     "output_type": "stream",
     "text": [
      "foo.pdf\r\n"
     ]
    }
   ],
   "source": [
    "echo \"${file/txt/pdf}\""
   ]
  },
  {
   "cell_type": "code",
   "execution_count": 4,
   "metadata": {
    "collapsed": false
   },
   "outputs": [
    {
     "name": "stdout",
     "output_type": "stream",
     "text": [
      "bar.txt.bar.txt\r\n"
     ]
    }
   ],
   "source": [
    "# a more complex exmaple\n",
    "file_1=foo.txt.foo.txt\n",
    "echo \"${file_1//foo/bar}\""
   ]
  },
  {
   "cell_type": "code",
   "execution_count": 5,
   "metadata": {
    "collapsed": false
   },
   "outputs": [
    {
     "name": "stdout",
     "output_type": "stream",
     "text": [
      "bar.txt.foo.txt\r\n"
     ]
    }
   ],
   "source": [
    "echo \"${file_1/foo/bar}\""
   ]
  },
  {
   "cell_type": "code",
   "execution_count": 6,
   "metadata": {
    "collapsed": false
   },
   "outputs": [
    {
     "name": "stdout",
     "output_type": "stream",
     "text": [
      "bar.txt.foo.txt\r\n"
     ]
    }
   ],
   "source": [
    "echo \"${file_1/#foo/bar}\""
   ]
  },
  {
   "cell_type": "code",
   "execution_count": 7,
   "metadata": {
    "collapsed": false
   },
   "outputs": [
    {
     "name": "stdout",
     "output_type": "stream",
     "text": [
      "foo.txt.foo.pdf\r\n"
     ]
    }
   ],
   "source": [
    "echo \"${file_1/%txt/pdf}\""
   ]
  },
  {
   "cell_type": "markdown",
   "metadata": {},
   "source": [
    "`${string%substring}` will delete the shortest match of substring from back  \n",
    "`${string%%substring}` will delete the longest match of substring from back"
   ]
  },
  {
   "cell_type": "code",
   "execution_count": 8,
   "metadata": {
    "collapsed": false
   },
   "outputs": [
    {
     "name": "stdout",
     "output_type": "stream",
     "text": [
      "foo.txt.foo.pdf\r\n"
     ]
    }
   ],
   "source": [
    "echo \"${file_1%txt*}pdf\""
   ]
  },
  {
   "cell_type": "code",
   "execution_count": 9,
   "metadata": {
    "collapsed": false
   },
   "outputs": [
    {
     "name": "stdout",
     "output_type": "stream",
     "text": [
      "foo.pdf\r\n"
     ]
    }
   ],
   "source": [
    "echo \"${file_1%%txt*}pdf\""
   ]
  },
  {
   "cell_type": "markdown",
   "metadata": {},
   "source": [
    "`{string#substring}` will delete the shortest match of substring from the begining  \n",
    "`{string##substring}` will delete the longest match of substring from the begining"
   ]
  },
  {
   "cell_type": "code",
   "execution_count": 10,
   "metadata": {
    "collapsed": false
   },
   "outputs": [
    {
     "name": "stdout",
     "output_type": "stream",
     "text": [
      "bar.txt.foo.txt\r\n"
     ]
    }
   ],
   "source": [
    "echo \"bar${file_1#foo*}\""
   ]
  },
  {
   "cell_type": "code",
   "execution_count": 11,
   "metadata": {
    "collapsed": false
   },
   "outputs": [
    {
     "name": "stdout",
     "output_type": "stream",
     "text": [
      "bar.pdf\r\n"
     ]
    }
   ],
   "source": [
    "echo \"bar${file_1##foo*}.pdf\""
   ]
  },
  {
   "cell_type": "markdown",
   "metadata": {},
   "source": [
    "**string slicing**  \n",
    "`${string:position}`  \n",
    "Extract substring from $string at `$position`\n",
    "\n",
    "`${string:position:length}`  \n",
    "Extract `$length` of characters substring from $string starting from `$position`"
   ]
  },
  {
   "cell_type": "code",
   "execution_count": 12,
   "metadata": {
    "collapsed": false
   },
   "outputs": [
    {
     "name": "stdout",
     "output_type": "stream",
     "text": [
      "txt.foo.txt\r\n"
     ]
    }
   ],
   "source": [
    "echo \"${file_1:4}\""
   ]
  },
  {
   "cell_type": "code",
   "execution_count": 13,
   "metadata": {
    "collapsed": false
   },
   "outputs": [
    {
     "name": "stdout",
     "output_type": "stream",
     "text": [
      "txt.foo\r\n"
     ]
    }
   ],
   "source": [
    "echo \"${file_1:4:7}\""
   ]
  },
  {
   "cell_type": "markdown",
   "metadata": {},
   "source": [
    "Finally, the length of the string:"
   ]
  },
  {
   "cell_type": "code",
   "execution_count": 14,
   "metadata": {
    "collapsed": false
   },
   "outputs": [
    {
     "name": "stdout",
     "output_type": "stream",
     "text": [
      "15\r\n"
     ]
    }
   ],
   "source": [
    "echo \"${#file_1}\""
   ]
  }
 ],
 "metadata": {
  "kernelspec": {
   "display_name": "Bash",
   "language": "bash",
   "name": "bash"
  },
  "language_info": {
   "codemirror_mode": "shell",
   "file_extension": ".sh",
   "mimetype": "text/x-sh",
   "name": "bash"
  }
 },
 "nbformat": 4,
 "nbformat_minor": 0
}
